{
 "cells": [
  {
   "cell_type": "code",
   "execution_count": 57,
   "id": "0e921ba8",
   "metadata": {},
   "outputs": [],
   "source": [
    "import pandas as pd\n",
    "schools_complete_csv = \"./Resources/schools_complete.csv\"\n",
    "students_complete_csv = \"./Resources/students_complete.csv\"\n",
    "schools_complete_df = pd.read_csv(schools_complete_csv)\n",
    "students_complete_df = pd.read_csv(students_complete_csv)\n",
    "#schools_complete_df\n",
    "#students_complete_df\n",
    "#schools_complete_df.columns\n",
    "#students_complete_df.columns\n"
   ]
  },
  {
   "cell_type": "code",
   "execution_count": 58,
   "id": "edf46472",
   "metadata": {},
   "outputs": [],
   "source": [
    "school_data_df = pd.merge(schools_complete_df, students_complete_df, on=\"school_name\", how = \"inner\")\n",
    "total_schools = len(school_data_df[\"school_name\"].unique())\n",
    "total_student = school_data_df[\"Student ID\"].count()\n",
    "total_budget = sum(school_data_df[\"budget\"].unique())\n",
    "math_mean = school_data_df[\"math_score\"].mean()\n",
    "reading_mean = school_data_df[\"reading_score\"].mean()\n",
    "passing_math_df = school_data_df.loc[school_data_df[\"math_score\"] >=70]\n",
    "passing_math_data = round((passing_math_df[\"math_score\"].count())/(school_data_df[\"math_score\"].count())*100, 3)\n",
    "passing_reading_df = school_data_df.loc[school_data_df[\"reading_score\"] >=70]\n",
    "passing_reading_data = round((passing_reading_df[\"reading_score\"].count())/(school_data_df[\"reading_score\"].count())*100, 3)\n",
    "passing_data_df = (school_data_df.loc[(school_data_df[\"math_score\"]>=70) & (school_data_df[\"reading_score\"] >=70)]) \n",
    "passing_df = passing_data_df.count()/(school_data_df[\"math_score\"].count())*100\n",
    "passing_reading_math = passing_df[\"math_score\"]\n"
   ]
  },
  {
   "cell_type": "code",
   "execution_count": 59,
   "id": "da016472",
   "metadata": {},
   "outputs": [
    {
     "data": {
      "text/html": [
       "<div>\n",
       "<style scoped>\n",
       "    .dataframe tbody tr th:only-of-type {\n",
       "        vertical-align: middle;\n",
       "    }\n",
       "\n",
       "    .dataframe tbody tr th {\n",
       "        vertical-align: top;\n",
       "    }\n",
       "\n",
       "    .dataframe thead th {\n",
       "        text-align: right;\n",
       "    }\n",
       "</style>\n",
       "<table border=\"1\" class=\"dataframe\">\n",
       "  <thead>\n",
       "    <tr style=\"text-align: right;\">\n",
       "      <th></th>\n",
       "      <th>Total Schools</th>\n",
       "      <th>Total Students</th>\n",
       "      <th>Total Budget</th>\n",
       "      <th>Average Math Score</th>\n",
       "      <th>Average Reading Score</th>\n",
       "      <th>% Passing Math</th>\n",
       "      <th>% Passing Reading</th>\n",
       "      <th>% Overall Passing</th>\n",
       "    </tr>\n",
       "  </thead>\n",
       "  <tbody>\n",
       "    <tr>\n",
       "      <th>0</th>\n",
       "      <td>15</td>\n",
       "      <td>39,170</td>\n",
       "      <td>$24,649,428</td>\n",
       "      <td>78.985371</td>\n",
       "      <td>81.87784</td>\n",
       "      <td>74.981</td>\n",
       "      <td>85.805</td>\n",
       "      <td>65.172326</td>\n",
       "    </tr>\n",
       "  </tbody>\n",
       "</table>\n",
       "</div>"
      ],
      "text/plain": [
       "   Total Schools Total Students Total Budget  Average Math Score  \\\n",
       "0             15         39,170  $24,649,428           78.985371   \n",
       "\n",
       "   Average Reading Score  % Passing Math  % Passing Reading  % Overall Passing  \n",
       "0               81.87784          74.981             85.805          65.172326  "
      ]
     },
     "execution_count": 59,
     "metadata": {},
     "output_type": "execute_result"
    }
   ],
   "source": [
    "# District Summary\n",
    "summary_table = pd.DataFrame({\n",
    "                             \"Total Schools\": [total_schools],\n",
    "                             \"Total Students\":[\"{:,}\".format(total_student)],\n",
    "                             \"Total Budget\":[\"${:,}\".format(total_budget)],\n",
    "                             \"Average Math Score\": [math_mean],\n",
    "                             \"Average Reading Score\": [reading_mean],\n",
    "                             \"% Passing Math\":[passing_math_data],\n",
    "                             \"% Passing Reading\": [passing_reading_data],\n",
    "                             \"% Overall Passing\": [passing_reading_math]\n",
    "                             \n",
    "})\n",
    "summary_table"
   ]
  },
  {
   "cell_type": "code",
   "execution_count": 82,
   "id": "70c98e59",
   "metadata": {
    "scrolled": true
   },
   "outputs": [
    {
     "ename": "SyntaxError",
     "evalue": "invalid syntax (<ipython-input-82-57ee41d1bd59>, line 9)",
     "output_type": "error",
     "traceback": [
      "\u001b[1;36m  File \u001b[1;32m\"<ipython-input-82-57ee41d1bd59>\"\u001b[1;36m, line \u001b[1;32m9\u001b[0m\n\u001b[1;33m    final = final_table.insert(:,\"school_type\", [school_type])\u001b[0m\n\u001b[1;37m                               ^\u001b[0m\n\u001b[1;31mSyntaxError\u001b[0m\u001b[1;31m:\u001b[0m invalid syntax\n"
     ]
    }
   ],
   "source": [
    "school_name = schools_complete_df[\"school_name\"]\n",
    "school_name\n",
    "school_type = schools_complete_df[\"type\"]\n",
    "school_type\n",
    "# school = schools_complete_df[[\"school_name\",\"type\"]]\n",
    "# school\n",
    "student_school = school_data_df[\"school_name\"].value_counts()\n",
    "final_table = student_school.to_frame()\n",
    "final = final_table.insert(:,\"school_type\", [school_type])\n",
    "final"
   ]
  },
  {
   "cell_type": "code",
   "execution_count": null,
   "id": "d04ee6d1",
   "metadata": {},
   "outputs": [],
   "source": []
  }
 ],
 "metadata": {
  "kernelspec": {
   "display_name": "Python 3",
   "language": "python",
   "name": "python3"
  },
  "language_info": {
   "codemirror_mode": {
    "name": "ipython",
    "version": 3
   },
   "file_extension": ".py",
   "mimetype": "text/x-python",
   "name": "python",
   "nbconvert_exporter": "python",
   "pygments_lexer": "ipython3",
   "version": "3.8.8"
  }
 },
 "nbformat": 4,
 "nbformat_minor": 5
}
